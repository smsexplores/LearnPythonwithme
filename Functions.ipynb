{
 "cells": [
  {
   "cell_type": "code",
   "execution_count": 3,
   "id": "d3c47073-387f-4106-bd7d-b4e404452731",
   "metadata": {},
   "outputs": [
    {
     "name": "stdout",
     "output_type": "stream",
     "text": [
      "We did it!\n"
     ]
    }
   ],
   "source": [
    "def first_func():\n",
    "    print('We did it!')\n",
    "\n",
    "\n",
    "first_func()"
   ]
  },
  {
   "cell_type": "code",
   "execution_count": 6,
   "id": "83481f64-7a61-4d57-ba08-49b0f0aee1ae",
   "metadata": {},
   "outputs": [
    {
     "name": "stdout",
     "output_type": "stream",
     "text": [
      "36\n"
     ]
    }
   ],
   "source": [
    "def number_squared(number):\n",
    "    print(number**2)\n",
    "\n",
    "number_squared(6)"
   ]
  },
  {
   "cell_type": "code",
   "execution_count": 7,
   "id": "61fc2b6c-06ae-4e4c-b521-d07bded5b0e8",
   "metadata": {},
   "outputs": [
    {
     "name": "stdout",
     "output_type": "stream",
     "text": [
      "16\n"
     ]
    }
   ],
   "source": [
    "def number_squared_cust(number,power):\n",
    "    print(number**power)\n",
    "\n",
    "\n",
    "number_squared_cust(4,2)"
   ]
  },
  {
   "cell_type": "code",
   "execution_count": 8,
   "id": "4e53e928-c8f9-4ed5-baef-a1104f3dabd4",
   "metadata": {},
   "outputs": [
    {
     "ename": "IndexError",
     "evalue": "tuple index out of range",
     "output_type": "error",
     "traceback": [
      "\u001b[1;31m---------------------------------------------------------------------------\u001b[0m",
      "\u001b[1;31mIndexError\u001b[0m                                Traceback (most recent call last)",
      "Cell \u001b[1;32mIn[8], line 7\u001b[0m\n\u001b[0;32m      3\u001b[0m \u001b[38;5;28;01mdef\u001b[39;00m \u001b[38;5;21mnumber_args\u001b[39m(\u001b[38;5;241m*\u001b[39mnumber):\n\u001b[0;32m      4\u001b[0m     \u001b[38;5;28mprint\u001b[39m(number[\u001b[38;5;241m0\u001b[39m]\u001b[38;5;241m*\u001b[39mnumber[\u001b[38;5;241m1\u001b[39m])\n\u001b[1;32m----> 7\u001b[0m number_args(args_tuple)\n",
      "Cell \u001b[1;32mIn[8], line 4\u001b[0m, in \u001b[0;36mnumber_args\u001b[1;34m(*number)\u001b[0m\n\u001b[0;32m      3\u001b[0m \u001b[38;5;28;01mdef\u001b[39;00m \u001b[38;5;21mnumber_args\u001b[39m(\u001b[38;5;241m*\u001b[39mnumber):\n\u001b[1;32m----> 4\u001b[0m     \u001b[38;5;28mprint\u001b[39m(number[\u001b[38;5;241m0\u001b[39m]\u001b[38;5;241m*\u001b[39mnumber[\u001b[38;5;241m1\u001b[39m])\n",
      "\u001b[1;31mIndexError\u001b[0m: tuple index out of range"
     ]
    }
   ],
   "source": [
    "args_tuple = (5,6,1,2,8)\n",
    "\n",
    "def number_args(*number):\n",
    "    print(number[0]*number[1])\n",
    "\n",
    "\n",
    "number_args(args_tuple)"
   ]
  },
  {
   "cell_type": "code",
   "execution_count": null,
   "id": "15837450-e7a6-4834-8de6-66bd631723ef",
   "metadata": {},
   "outputs": [],
   "source": []
  },
  {
   "cell_type": "code",
   "execution_count": null,
   "id": "54b955f7-0bbc-41ff-872d-6d8c7a7e1f8f",
   "metadata": {},
   "outputs": [],
   "source": []
  },
  {
   "cell_type": "code",
   "execution_count": null,
   "id": "a4b887ea-e359-4d5d-8795-a7e1af0cfd25",
   "metadata": {},
   "outputs": [],
   "source": []
  },
  {
   "cell_type": "code",
   "execution_count": null,
   "id": "3281e472-c9e5-4816-b7ef-7738495c7e84",
   "metadata": {},
   "outputs": [],
   "source": []
  }
 ],
 "metadata": {
  "kernelspec": {
   "display_name": "Python 3 (ipykernel)",
   "language": "python",
   "name": "python3"
  },
  "language_info": {
   "codemirror_mode": {
    "name": "ipython",
    "version": 3
   },
   "file_extension": ".py",
   "mimetype": "text/x-python",
   "name": "python",
   "nbconvert_exporter": "python",
   "pygments_lexer": "ipython3",
   "version": "3.12.4"
  }
 },
 "nbformat": 4,
 "nbformat_minor": 5
}
