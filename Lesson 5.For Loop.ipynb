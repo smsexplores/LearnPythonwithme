{
 "cells": [
  {
   "cell_type": "code",
   "execution_count": null,
   "id": "afc86b11-4ff8-41c6-9a75-e9a2f44e1ea1",
   "metadata": {},
   "outputs": [],
   "source": [
    "#For Loops"
   ]
  },
  {
   "cell_type": "code",
   "execution_count": null,
   "id": "ea091414-c5b0-488b-8226-2d66f448b0cf",
   "metadata": {},
   "outputs": [],
   "source": [
    "integers = [1,2,3,4,5]"
   ]
  },
  {
   "cell_type": "code",
   "execution_count": 3,
   "id": "1301c46e-4b7e-44cc-9a08-f3bb4eb0c7f9",
   "metadata": {},
   "outputs": [
    {
     "name": "stdout",
     "output_type": "stream",
     "text": [
      "1\n",
      "2\n",
      "3\n",
      "4\n",
      "5\n"
     ]
    }
   ],
   "source": [
    "integers = [1,2,3,4,5]\n",
    "for number in integers:\n",
    "    print(number)"
   ]
  },
  {
   "cell_type": "code",
   "execution_count": 4,
   "id": "cff6641c-1b41-447c-a429-d3634fe77239",
   "metadata": {},
   "outputs": [
    {
     "name": "stdout",
     "output_type": "stream",
     "text": [
      "1\n",
      "2\n",
      "3\n",
      "4\n",
      "5\n"
     ]
    }
   ],
   "source": [
    "candy = [1,2,3,4,5]\n",
    "for candy in integers:\n",
    "    print(candy)"
   ]
  },
  {
   "cell_type": "code",
   "execution_count": 5,
   "id": "c9998475-7b6c-4307-80dd-37d0b258bce7",
   "metadata": {},
   "outputs": [
    {
     "name": "stdout",
     "output_type": "stream",
     "text": [
      "1 I Love  1\n",
      "2 I Love  2\n",
      "3 I Love  3\n",
      "4 I Love  4\n",
      "5 I Love  5\n"
     ]
    }
   ],
   "source": [
    "candy = [1,2,3,4,5]\n",
    "for candy in integers:\n",
    "    print(candy,\"I Love \",candy)"
   ]
  },
  {
   "cell_type": "code",
   "execution_count": 8,
   "id": "b9d67dee-54ef-4c25-9fe2-95b566ca19c0",
   "metadata": {},
   "outputs": [
    {
     "name": "stdout",
     "output_type": "stream",
     "text": [
      "1 --> 2 jelly+jelly\n",
      "2 --> 4 jelly+jelly\n",
      "3 --> 6 jelly+jelly\n",
      "4 --> 8 jelly+jelly\n",
      "5 --> 10 jelly+jelly\n"
     ]
    }
   ],
   "source": [
    "integers = [1,2,3,4,5]\n",
    "for jelly in integers:\n",
    "    print(jelly,\"-->\",jelly+jelly,\"jelly+jelly\")"
   ]
  },
  {
   "cell_type": "code",
   "execution_count": 9,
   "id": "ecd008d6-dcea-4a89-bd8f-b691e2c80f9a",
   "metadata": {},
   "outputs": [
    {
     "name": "stdout",
     "output_type": "stream",
     "text": [
      "Salma\n",
      "5\n",
      "['MCC', 'Chocolate']\n"
     ]
    }
   ],
   "source": [
    "ice_cream_dict = {'name': 'Salma', 'weekly intake': 5, 'favorite ice creams': ['MCC', 'Chocolate']}\n",
    "for cream in ice_cream_dict.values():\n",
    "    print(cream)"
   ]
  },
  {
   "cell_type": "code",
   "execution_count": 10,
   "id": "275adcae-bf02-4ab8-b762-b69b5cb27f5d",
   "metadata": {},
   "outputs": [
    {
     "name": "stdout",
     "output_type": "stream",
     "text": [
      "name\n",
      "weekly intake\n",
      "favorite ice creams\n"
     ]
    }
   ],
   "source": [
    "for cream in ice_cream_dict.keys():\n",
    "    print(cream)"
   ]
  },
  {
   "cell_type": "code",
   "execution_count": 11,
   "id": "a4357f33-1147-4061-8b90-4f3512026dea",
   "metadata": {},
   "outputs": [
    {
     "name": "stdout",
     "output_type": "stream",
     "text": [
      "favorite ice creams\n",
      "favorite ice creams\n",
      "favorite ice creams\n"
     ]
    }
   ],
   "source": [
    "for key,pairs in ice_cream_dict.items():\n",
    "    print(cream)"
   ]
  },
  {
   "cell_type": "code",
   "execution_count": 13,
   "id": "aa149c3e-46e1-48cf-bc67-00fa276c80fd",
   "metadata": {},
   "outputs": [
    {
     "name": "stdout",
     "output_type": "stream",
     "text": [
      "name -> Salma\n",
      "weekly intake -> 5\n",
      "favorite ice creams -> ['MCC', 'Chocolate']\n"
     ]
    }
   ],
   "source": [
    "for key, value in ice_cream_dict.items():\n",
    "    print(key, '->',value)"
   ]
  },
  {
   "cell_type": "markdown",
   "id": "f7de04e9-5d8c-4af6-b39a-0f9bb351af0c",
   "metadata": {},
   "source": [
    "#Nested For Loop"
   ]
  },
  {
   "cell_type": "code",
   "execution_count": 15,
   "id": "8ee76487-23ed-472c-840d-d70e8388bc8a",
   "metadata": {},
   "outputs": [
    {
     "name": "stdout",
     "output_type": "stream",
     "text": [
      "Vanilla topped with Hot Fudge\n",
      "Vanilla topped with Oreos\n",
      "Vanilla topped with Marshmallows\n",
      "Chocolate topped with Hot Fudge\n",
      "Chocolate topped with Oreos\n",
      "Chocolate topped with Marshmallows\n",
      "Cookie Dough topped with Hot Fudge\n",
      "Cookie Dough topped with Oreos\n",
      "Cookie Dough topped with Marshmallows\n"
     ]
    }
   ],
   "source": [
    "flavors = ['Vanilla', 'Chocolate', 'Cookie Dough']\n",
    "toppings = ['Hot Fudge', 'Oreos', 'Marshmallows']\n",
    "for one in flavors:\n",
    "    for two in toppings:\n",
    "        print(one, 'topped with', two)"
   ]
  },
  {
   "cell_type": "code",
   "execution_count": null,
   "id": "497ca661-6c39-4ee1-a8c4-184a593cf256",
   "metadata": {},
   "outputs": [],
   "source": []
  },
  {
   "cell_type": "code",
   "execution_count": null,
   "id": "591578df-0e60-431e-bb0f-51323b5e97d3",
   "metadata": {},
   "outputs": [],
   "source": []
  },
  {
   "cell_type": "code",
   "execution_count": null,
   "id": "e6b3ef95-7744-4c40-acba-4827ef1b927b",
   "metadata": {},
   "outputs": [],
   "source": []
  },
  {
   "cell_type": "code",
   "execution_count": null,
   "id": "0912f7e2-d669-46b3-ac32-5034d9f26d0c",
   "metadata": {},
   "outputs": [],
   "source": []
  },
  {
   "cell_type": "code",
   "execution_count": null,
   "id": "b7ea2e6c-8fe8-4eac-ae2f-54cbe5e4365d",
   "metadata": {},
   "outputs": [],
   "source": []
  },
  {
   "cell_type": "code",
   "execution_count": null,
   "id": "49a2f3ec-7524-4381-a715-8ae5252ef23f",
   "metadata": {},
   "outputs": [],
   "source": []
  },
  {
   "cell_type": "code",
   "execution_count": null,
   "id": "db517216-e264-455b-aa5c-6d5a593b1f6d",
   "metadata": {},
   "outputs": [],
   "source": []
  },
  {
   "cell_type": "code",
   "execution_count": null,
   "id": "0bdb734d-b37e-4510-a29b-07ff91d24f71",
   "metadata": {},
   "outputs": [],
   "source": []
  },
  {
   "cell_type": "code",
   "execution_count": null,
   "id": "44fceb95-c20d-47a9-9b95-52b361545cf6",
   "metadata": {},
   "outputs": [],
   "source": []
  },
  {
   "cell_type": "code",
   "execution_count": null,
   "id": "bf0ad3a0-b254-492e-b0cd-c9513616db39",
   "metadata": {},
   "outputs": [],
   "source": []
  },
  {
   "cell_type": "code",
   "execution_count": null,
   "id": "ea45a524-3d23-4a56-8d3e-d7415508994b",
   "metadata": {},
   "outputs": [],
   "source": []
  },
  {
   "cell_type": "code",
   "execution_count": null,
   "id": "f0ba0513-c728-4a9b-b301-22d04c337248",
   "metadata": {},
   "outputs": [],
   "source": []
  }
 ],
 "metadata": {
  "kernelspec": {
   "display_name": "Python 3 (ipykernel)",
   "language": "python",
   "name": "python3"
  },
  "language_info": {
   "codemirror_mode": {
    "name": "ipython",
    "version": 3
   },
   "file_extension": ".py",
   "mimetype": "text/x-python",
   "name": "python",
   "nbconvert_exporter": "python",
   "pygments_lexer": "ipython3",
   "version": "3.12.4"
  }
 },
 "nbformat": 4,
 "nbformat_minor": 5
}
