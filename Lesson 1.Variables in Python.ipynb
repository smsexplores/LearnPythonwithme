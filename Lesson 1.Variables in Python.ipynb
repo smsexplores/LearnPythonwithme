{
 "cells": [
  {
   "cell_type": "code",
   "execution_count": 1,
   "id": "67d82146-7a44-4744-8204-733b78f54e36",
   "metadata": {},
   "outputs": [
    {
     "name": "stdout",
     "output_type": "stream",
     "text": [
      "78\n"
     ]
    }
   ],
   "source": [
    "x=78\n",
    "print(x)\n"
   ]
  },
  {
   "cell_type": "code",
   "execution_count": 2,
   "id": "22844656-ee07-4712-952e-70552ac3f3f7",
   "metadata": {},
   "outputs": [
    {
     "name": "stdout",
     "output_type": "stream",
     "text": [
      "98\n"
     ]
    }
   ],
   "source": [
    "a=98\n",
    "print(a)\n"
   ]
  },
  {
   "cell_type": "code",
   "execution_count": 3,
   "id": "d792c542-4e4b-4e99-bad1-883bd1702bb4",
   "metadata": {},
   "outputs": [
    {
     "data": {
      "text/plain": [
       "int"
      ]
     },
     "execution_count": 3,
     "metadata": {},
     "output_type": "execute_result"
    }
   ],
   "source": [
    "type(x)"
   ]
  },
  {
   "cell_type": "code",
   "execution_count": 4,
   "id": "cbbef053-7555-4a01-8122-d5762c9a38c4",
   "metadata": {},
   "outputs": [
    {
     "data": {
      "text/plain": [
       "int"
      ]
     },
     "execution_count": 4,
     "metadata": {},
     "output_type": "execute_result"
    }
   ],
   "source": [
    "type(a)\n"
   ]
  },
  {
   "cell_type": "code",
   "execution_count": 5,
   "id": "dafd0bb3-217b-4a6d-99b6-d9d1964a1391",
   "metadata": {},
   "outputs": [
    {
     "name": "stdout",
     "output_type": "stream",
     "text": [
      "Mint Chocolate\n"
     ]
    }
   ],
   "source": [
    "y='Mint Chocolate'\n",
    "print(y)\n"
   ]
  },
  {
   "cell_type": "code",
   "execution_count": 6,
   "id": "c3bccb6c-5a69-43d4-ad63-6e2c861cb530",
   "metadata": {},
   "outputs": [
    {
     "data": {
      "text/plain": [
       "str"
      ]
     },
     "execution_count": 6,
     "metadata": {},
     "output_type": "execute_result"
    }
   ],
   "source": [
    "type(y)"
   ]
  },
  {
   "cell_type": "code",
   "execution_count": 7,
   "id": "86651ebc-4db2-4a02-a6be-5cfaf6eb760d",
   "metadata": {},
   "outputs": [
    {
     "name": "stdout",
     "output_type": "stream",
     "text": [
      "kings\n"
     ]
    }
   ],
   "source": [
    "y= 'king'\n",
    "Y='kings'\n",
    "print(Y)\n"
   ]
  },
  {
   "cell_type": "code",
   "execution_count": 8,
   "id": "201405f9-98e8-4183-94ea-9de14e61070e",
   "metadata": {},
   "outputs": [
    {
     "name": "stdout",
     "output_type": "stream",
     "text": [
      "king is back\n"
     ]
    }
   ],
   "source": [
    "x,y,z='king','is','back'\n",
    "print(x,y,z)"
   ]
  },
  {
   "cell_type": "code",
   "execution_count": 9,
   "id": "1b1e1dd6-b0d8-419a-bae2-e6a11fb71760",
   "metadata": {},
   "outputs": [
    {
     "name": "stdout",
     "output_type": "stream",
     "text": [
      "king is back king is back king is back\n"
     ]
    }
   ],
   "source": [
    "x=y=z='king is back'\n",
    "print(x,y,z)\n"
   ]
  },
  {
   "cell_type": "code",
   "execution_count": 10,
   "id": "fca80f27-e1b6-43f1-b2ab-2b4beef30550",
   "metadata": {},
   "outputs": [
    {
     "name": "stdout",
     "output_type": "stream",
     "text": [
      "king\n",
      "is\n",
      "back\n"
     ]
    }
   ],
   "source": [
    "cream='king','is','back'\n",
    "ki,j,k =cream\n",
    "print(ki)\n",
    "print(j)\n",
    "print(k)\n"
   ]
  },
  {
   "cell_type": "code",
   "execution_count": null,
   "id": "530d1d0e-85f5-4eb6-9d05-d16b598ea4cd",
   "metadata": {},
   "outputs": [],
   "source": [
    "#camel case\n",
    "#Test variable case\n",
    "\n",
    "testVariableCase='Vanilla Swirl'"
   ]
  },
  {
   "cell_type": "code",
   "execution_count": null,
   "id": "891dbd56-c69a-41af-bf46-80517b2784f2",
   "metadata": {},
   "outputs": [],
   "source": [
    "#Pascal case\n",
    "#Test variable case     #best practice stage\n",
    "\n",
    "\n",
    "TestVariableCase='Vanilla Swirl'"
   ]
  },
  {
   "cell_type": "code",
   "execution_count": 11,
   "id": "5319897c-e57a-4cae-b917-a20b034515d0",
   "metadata": {},
   "outputs": [],
   "source": [
    "#Snake case  # best case #improves readability\n",
    "#Test variable case\n",
    "\n",
    "test_variable_case='Vanilla Swirl'\n"
   ]
  },
  {
   "cell_type": "code",
   "execution_count": 12,
   "id": "cf74c447-54e8-4f91-a94f-12ce329ed4ae",
   "metadata": {},
   "outputs": [],
   "source": [
    "\n",
    "#can use \n",
    "testvar='Vanilla Swirl'\n",
    "test_var='Vanilla Swirl'\n",
    "_test_var='Vanilla Swirl'\n",
    "testVar='Vanilla Swirl'\n",
    "TestVar='Vanilla Swirl'\n",
    "TestVar2= 'Vanilla Swirl'"
   ]
  },
  {
   "cell_type": "markdown",
   "id": "9fd7d9ef-c4dd-4b2d-b6f0-03b87e8f6c97",
   "metadata": {},
   "source": [
    "#cannot use\n",
    "2testvar='Vanilla Swirl'\n",
    "yest-var='Vanilla Swirl'\n",
    "test var='Vanilla Swirl'\n",
    "test,var='Vanilla Swirl'\n"
   ]
  },
  {
   "cell_type": "code",
   "execution_count": 15,
   "id": "70e9d66c-6834-4d7e-a623-5138a45da809",
   "metadata": {},
   "outputs": [
    {
     "name": "stdout",
     "output_type": "stream",
     "text": [
      "My Tea is Hot.\n"
     ]
    }
   ],
   "source": [
    "t= 'My Tea is Hot'+'.'\n",
    "print(t)\n"
   ]
  },
  {
   "cell_type": "code",
   "execution_count": 16,
   "id": "3778a3e7-59a9-41b2-8c52-131ed0237d85",
   "metadata": {},
   "outputs": [
    {
     "name": "stdout",
     "output_type": "stream",
     "text": [
      "My chocolate is cold3\n"
     ]
    }
   ],
   "source": [
    "r= 'My chocolate is cold'+'3'\n",
    "print(r)\n"
   ]
  },
  {
   "attachments": {},
   "cell_type": "markdown",
   "id": "98d1127f-8a3c-4d78-a3b5-e8eb0793d69f",
   "metadata": {
    "scrolled": true
   },
   "source": [
    "r= 'My chocolate is cold'+3\n",
    "print(r)\n",
    "#numbers can be concatenated numbers. It should be a string to concatenate."
   ]
  },
  {
   "cell_type": "code",
   "execution_count": 19,
   "id": "eadc58bb-6be2-479c-8a06-5891ffc5b882",
   "metadata": {},
   "outputs": [
    {
     "name": "stdout",
     "output_type": "stream",
     "text": [
      "17\n"
     ]
    }
   ],
   "source": [
    "t=9\n",
    "u=8\n",
    "y=t+u\n",
    "print(y)\n"
   ]
  },
  {
   "cell_type": "code",
   "execution_count": 20,
   "id": "01239a4c-0931-4d4f-a615-2555bd7f7776",
   "metadata": {},
   "outputs": [
    {
     "name": "stdout",
     "output_type": "stream",
     "text": [
      "ice creamismy favorite.\n"
     ]
    }
   ],
   "source": [
    "x='ice cream'\n",
    "y='is'\n",
    "z='my favorite.'\n",
    "print(x+y+z)\n"
   ]
  },
  {
   "cell_type": "code",
   "execution_count": 21,
   "id": "0463907d-5496-40ea-abde-412be90af270",
   "metadata": {},
   "outputs": [
    {
     "name": "stdout",
     "output_type": "stream",
     "text": [
      "24\n"
     ]
    }
   ],
   "source": [
    "x=9\n",
    "y=8\n",
    "z=7\n",
    "print(x+y+z)\n"
   ]
  },
  {
   "cell_type": "code",
   "execution_count": null,
   "id": "98e7a54a-9c1f-4983-a830-73402dcf8243",
   "metadata": {},
   "outputs": [],
   "source": []
  }
 ],
 "metadata": {
  "kernelspec": {
   "display_name": "Python 3 (ipykernel)",
   "language": "python",
   "name": "python3"
  },
  "language_info": {
   "codemirror_mode": {
    "name": "ipython",
    "version": 3
   },
   "file_extension": ".py",
   "mimetype": "text/x-python",
   "name": "python",
   "nbconvert_exporter": "python",
   "pygments_lexer": "ipython3",
   "version": "3.12.4"
  }
 },
 "nbformat": 4,
 "nbformat_minor": 5
}
