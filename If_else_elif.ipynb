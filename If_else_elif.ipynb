{
 "cells": [
  {
   "cell_type": "code",
   "execution_count": 2,
   "id": "7988896d-81cb-4e63-810d-35ef2617c65f",
   "metadata": {},
   "outputs": [
    {
     "name": "stdout",
     "output_type": "stream",
     "text": [
      "It worked\n"
     ]
    }
   ],
   "source": [
    "if 25>10:\n",
    "    print(\"It worked\")"
   ]
  },
  {
   "cell_type": "code",
   "execution_count": 3,
   "id": "f91a983b-9fd6-4861-b5df-439c272588a7",
   "metadata": {},
   "outputs": [],
   "source": [
    "if 25<10:\n",
    "    print(\"it worked\") #will not print as the statement is false"
   ]
  },
  {
   "cell_type": "code",
   "execution_count": 5,
   "id": "3062316f-191e-48ed-973e-8437c24c64c0",
   "metadata": {},
   "outputs": [
    {
     "name": "stdout",
     "output_type": "stream",
     "text": [
      "It worked\n"
     ]
    }
   ],
   "source": [
    "if 25<10:\n",
    "    print (\"it worked\")\n",
    "else:\n",
    "    print (\"It worked\")"
   ]
  },
  {
   "cell_type": "code",
   "execution_count": 8,
   "id": "08978839-447d-49de-8359-77ca864adcac",
   "metadata": {},
   "outputs": [
    {
     "name": "stdout",
     "output_type": "stream",
     "text": [
      "else worked\n"
     ]
    }
   ],
   "source": [
    "if 25<10:\n",
    "    print (\"it worked\")\n",
    "elif 25>30:\n",
    "    print (\"elif worked\")\n",
    "else:\n",
    "    print (\"else worked\")"
   ]
  },
  {
   "cell_type": "code",
   "execution_count": 9,
   "id": "87d7774f-6d7f-462b-aa63-dda71808eeec",
   "metadata": {},
   "outputs": [
    {
     "name": "stdout",
     "output_type": "stream",
     "text": [
      "if statement worked\n"
     ]
    }
   ],
   "source": [
    "if 25>10:\n",
    "    print (\"if statement worked\")\n",
    "elif 25>30:\n",
    "    print (\"elif worked\")\n",
    "else:\n",
    "    print (\"It worked\")"
   ]
  },
  {
   "cell_type": "code",
   "execution_count": 11,
   "id": "2f9335f7-c618-43b0-b6a9-3f2f4da51957",
   "metadata": {},
   "outputs": [
    {
     "name": "stdout",
     "output_type": "stream",
     "text": [
      "Elif Worked\n"
     ]
    }
   ],
   "source": [
    "if 10>25:\n",
    "    print(\"IF worked\")\n",
    "elif 50>30:\n",
    "    print(\"Elif Worked\")\n",
    "else:\n",
    "    print(\"else worked\")"
   ]
  },
  {
   "cell_type": "code",
   "execution_count": 13,
   "id": "93f61371-441d-4319-b0ed-a431b2301c71",
   "metadata": {},
   "outputs": [
    {
     "name": "stdout",
     "output_type": "stream",
     "text": [
      "Elif Worked\n"
     ]
    }
   ],
   "source": [
    "if 10>25:\n",
    "    print(\"IF worked\")\n",
    "elif 25>20:\n",
    "    print(\"Elif Worked\")\n",
    "elif 21>25:\n",
    "    print(\"Elif1 Worked\")\n",
    "elif 22>28:\n",
    "    print(\"Elif 2 worked\")\n",
    "else:\n",
    "    print(\"Else Worked\")\n"
   ]
  },
  {
   "cell_type": "code",
   "execution_count": 14,
   "id": "18c3b3c7-0d5d-40f7-aa63-b561ad977b57",
   "metadata": {},
   "outputs": [
    {
     "name": "stdout",
     "output_type": "stream",
     "text": [
      "It worked\n"
     ]
    }
   ],
   "source": [
    "print( \"It worked\") if 35>20 else print (\"It didnt work out\")"
   ]
  },
  {
   "cell_type": "code",
   "execution_count": 15,
   "id": "6c553965-b12f-4e79-9a92-56bf92e4546c",
   "metadata": {},
   "outputs": [
    {
     "name": "stdout",
     "output_type": "stream",
     "text": [
      "It didnt work out\n"
     ]
    }
   ],
   "source": [
    "print( \"It worked\") if 15>20 else print (\"It didnt work out\")"
   ]
  },
  {
   "cell_type": "code",
   "execution_count": null,
   "id": "fc68e93c-7bf8-4627-a1bc-a6f7b247cff3",
   "metadata": {},
   "outputs": [],
   "source": [
    "#nested if statement\n",
    "if 10>25:\n",
    "    print(\"IF worked\")\n",
    "    if 10>5\n",
    "elif 25>20:\n",
    "    print(\"Elif Worked\")\n",
    "elif 21>25:\n",
    "    print(\"Elif1 Worked\")\n",
    "elif 22>28:\n",
    "    print(\"Elif 2 worked\")\n",
    "else:\n",
    "    print(\"Else Worked\")\n"
   ]
  }
 ],
 "metadata": {
  "kernelspec": {
   "display_name": "Python 3 (ipykernel)",
   "language": "python",
   "name": "python3"
  },
  "language_info": {
   "codemirror_mode": {
    "name": "ipython",
    "version": 3
   },
   "file_extension": ".py",
   "mimetype": "text/x-python",
   "name": "python",
   "nbconvert_exporter": "python",
   "pygments_lexer": "ipython3",
   "version": "3.12.4"
  }
 },
 "nbformat": 4,
 "nbformat_minor": 5
}
