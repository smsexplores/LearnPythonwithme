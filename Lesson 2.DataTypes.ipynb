{
 "cells": [
  {
   "cell_type": "markdown",
   "id": "e9a8aee4-2666-42cc-bc66-8b4e329bded2",
   "metadata": {},
   "source": [
    "Data Types in Python\n",
    "            Data types are the kinds of values that can be stored and manipulated within a program. Python has several built-in data types that are used to define variables and hold data. Here are the main data types in Python:\n",
    "\n",
    "1. Numeric Types\n",
    "int: Integer numbers (e.g., -5, 0, 100)\n",
    "float: Floating-point numbers, decimal numbers (e.g., 3.14, 2.71828)\n",
    "complex: Complex numbers with a real and imaginary part (e.g., 3+4j, 1-2j)\n",
    "2. Sequence Types\n",
    "str: String, a sequence of characters enclosed in single quotes ('...') or double quotes (\"...\") (e.g., 'hello', \"world\")\n",
    "list: List, an ordered collection of items enclosed in square brackets ([...]) (e.g., [1, 2, 3], ['a', 'b', 'c'])\n",
    "tuple: Tuple, an ordered collection of items enclosed in parentheses ((...)) (e.g., (1, 2, 3), ('x', 'y', 'z'))\n",
    "3. Mapping Type\n",
    "dict: Dictionary, a collection of key-value pairs enclosed in curly braces ({key: value, ...}) (e.g., {'name': 'Alice', 'age': 30})\n",
    "4. Set Types\n",
    "set: Set, an unordered collection of unique items enclosed in curly braces ({...}) (e.g., {1, 2, 3}, {'a', 'b', 'c'})\n",
    "5. Boolean Type\n",
    "bool: Boolean, represents truth values True or False\n",
    "6. None Type\n",
    "NoneType: Represents a lack of value or absence of a value, often used to signify that a variable has not been assigned a value yet (None)\n"
   ]
  },
  {
   "cell_type": "markdown",
   "id": "33779a7c-02a7-4511-b3dd-a0d16a268165",
   "metadata": {},
   "source": [
    "Numeric Data Type\n",
    "Integer:\n",
    "positive,negative numbers, zero all fall under this category."
   ]
  },
  {
   "cell_type": "code",
   "execution_count": 6,
   "id": "b35989a1-0e3a-44c5-acf4-d76a8a8bd687",
   "metadata": {},
   "outputs": [
    {
     "name": "stdout",
     "output_type": "stream",
     "text": [
      "9 -9 0\n"
     ]
    },
    {
     "data": {
      "text/plain": [
       "int"
      ]
     },
     "execution_count": 6,
     "metadata": {},
     "output_type": "execute_result"
    }
   ],
   "source": [
    "x=9\n",
    "y=-9\n",
    "z=0\n",
    "print(x,y,z)\n",
    "type(x)\n",
    "type(y)\n",
    "type(z)"
   ]
  },
  {
   "cell_type": "markdown",
   "id": "2dacd25c-5a61-451e-ac11-36eea21c149a",
   "metadata": {},
   "source": [
    "Numeric Data Type Float: positive Decimal,negative Decimals all fall under this category."
   ]
  },
  {
   "cell_type": "code",
   "execution_count": 8,
   "id": "85c647d9-c73c-4b78-b242-fbdb830d70e9",
   "metadata": {},
   "outputs": [
    {
     "name": "stdout",
     "output_type": "stream",
     "text": [
      "9.56 -6.0 0.34\n"
     ]
    },
    {
     "data": {
      "text/plain": [
       "float"
      ]
     },
     "execution_count": 8,
     "metadata": {},
     "output_type": "execute_result"
    }
   ],
   "source": [
    "x=9.56\n",
    "y=-9+3.0\n",
    "z=0+.34\n",
    "print(x,y,z)\n",
    "type(x)\n",
    "type(y)\n",
    "type(z)"
   ]
  },
  {
   "cell_type": "markdown",
   "id": "42a55d67-6797-4350-82ed-83da5256db08",
   "metadata": {},
   "source": [
    "Numeric Data Type Complex: imajinary values fall under this"
   ]
  },
  {
   "cell_type": "code",
   "execution_count": 9,
   "id": "a6040301-7a06-476b-b066-330dec394656",
   "metadata": {},
   "outputs": [
    {
     "name": "stdout",
     "output_type": "stream",
     "text": [
      "(6.56+3j)\n"
     ]
    },
    {
     "data": {
      "text/plain": [
       "complex"
      ]
     },
     "execution_count": 9,
     "metadata": {},
     "output_type": "execute_result"
    }
   ],
   "source": [
    "x=6.56+3j\n",
    "print(x)\n",
    "type(x)"
   ]
  },
  {
   "cell_type": "markdown",
   "id": "214880af-52ce-4fe8-bb6a-ebf3fe06811b",
   "metadata": {},
   "source": [
    "#Boolean values \n",
    "type(true)--> Bool\n",
    "type(false)-->Bool\n",
    "type(1>5)--> bool\n",
    "type(1==1)-->"
   ]
  },
  {
   "cell_type": "code",
   "execution_count": 10,
   "id": "835bdd9e-a668-454f-9a4c-e9dd4ff3455c",
   "metadata": {},
   "outputs": [
    {
     "data": {
      "text/plain": [
       "bool"
      ]
     },
     "execution_count": 10,
     "metadata": {},
     "output_type": "execute_result"
    }
   ],
   "source": [
    "type(1>5)"
   ]
  },
  {
   "cell_type": "code",
   "execution_count": 11,
   "id": "287608d6-7ff9-4777-93ac-097b6a028a3a",
   "metadata": {},
   "outputs": [
    {
     "data": {
      "text/plain": [
       "bool"
      ]
     },
     "execution_count": 11,
     "metadata": {},
     "output_type": "execute_result"
    }
   ],
   "source": [
    "type(9==6)"
   ]
  },
  {
   "cell_type": "markdown",
   "id": "4e794bc4-da03-45f5-bbee-c952fe766c04",
   "metadata": {},
   "source": [
    "##String\n",
    "\n",
    "'Single Quotes'\n",
    "\"Double Quotes\n",
    "\"\" '\"\"\"\"\"\n",
    "multi line\n"
   ]
  },
  {
   "cell_type": "code",
   "execution_count": 13,
   "id": "1b3a7a3f-4121-4af5-b3a5-4a45fe8b9ce9",
   "metadata": {},
   "outputs": [
    {
     "data": {
      "text/plain": [
       "'Single Quotes'"
      ]
     },
     "execution_count": 13,
     "metadata": {},
     "output_type": "execute_result"
    }
   ],
   "source": [
    "'Single Quotes'"
   ]
  },
  {
   "cell_type": "code",
   "execution_count": 14,
   "id": "bec67133-9282-464a-9732-cc95bd0221ef",
   "metadata": {},
   "outputs": [
    {
     "data": {
      "text/plain": [
       "'Double Quotes'"
      ]
     },
     "execution_count": 14,
     "metadata": {},
     "output_type": "execute_result"
    }
   ],
   "source": [
    "\"Double Quotes\""
   ]
  },
  {
   "cell_type": "code",
   "execution_count": 17,
   "id": "f8d5cde9-ebae-4310-a9cc-854a4704d6f1",
   "metadata": {},
   "outputs": [
    {
     "name": "stdout",
     "output_type": "stream",
     "text": [
      "\n",
      "I love my Country\n",
      "My love for my country is big\n",
      "GReat Kingdom ahead\n",
      "Python will rock in the future just as now\n",
      "\n",
      "\n"
     ]
    }
   ],
   "source": [
    "multiline=\"\"\"\n",
    "I love my Country\n",
    "My love for my country is big\n",
    "GReat Kingdom ahead\n",
    "Python will rock in the future just as now\n",
    "\n",
    "\"\"\"\n",
    "print(multiline)"
   ]
  },
  {
   "cell_type": "code",
   "execution_count": 21,
   "id": "dea26c30-5a2e-4151-851b-5158da36b65f",
   "metadata": {},
   "outputs": [
    {
     "name": "stdout",
     "output_type": "stream",
     "text": [
      "Chocolate king\n",
      "Ch\n",
      "late ki\n"
     ]
    }
   ],
   "source": [
    "a=\"Chocolate king\"\n",
    "print(a)\n",
    "print(a[0:2])\n",
    "print(a[5:-2])  #indexing"
   ]
  },
  {
   "cell_type": "markdown",
   "id": "809ff152-6f1f-4f24-ad10-199b77685851",
   "metadata": {},
   "source": [
    "#LIST - can store multiple separate values\n",
    "-sequence type List, an ordered collection of items enclosed in square brackets "
   ]
  },
  {
   "cell_type": "code",
   "execution_count": 22,
   "id": "1886b6b2-9405-472a-8f51-d44379845582",
   "metadata": {},
   "outputs": [
    {
     "data": {
      "text/plain": [
       "[1, 2, 3]"
      ]
     },
     "execution_count": 22,
     "metadata": {},
     "output_type": "execute_result"
    }
   ],
   "source": [
    "#LIST\n",
    "[1,2,3]"
   ]
  },
  {
   "cell_type": "code",
   "execution_count": 34,
   "id": "505d3ee6-7424-4878-9e8a-4eb212a811e4",
   "metadata": {},
   "outputs": [
    {
     "data": {
      "text/plain": [
       "tuple"
      ]
     },
     "execution_count": 34,
     "metadata": {},
     "output_type": "execute_result"
    }
   ],
   "source": [
    "a=(1,-3,4)\n",
    "type(a)"
   ]
  },
  {
   "cell_type": "code",
   "execution_count": 24,
   "id": "0907c6de-ea44-4fbb-8329-c251ea9bba13",
   "metadata": {},
   "outputs": [
    {
     "data": {
      "text/plain": [
       "['Cookie', 'Strawberry', 'peigeon']"
      ]
     },
     "execution_count": 24,
     "metadata": {},
     "output_type": "execute_result"
    }
   ],
   "source": [
    "[\"Cookie\",\"Strawberry\",\"peigeon\"]"
   ]
  },
  {
   "cell_type": "code",
   "execution_count": 25,
   "id": "1c7b9cdc-7468-4a2b-be4b-7f13d28a6f5d",
   "metadata": {},
   "outputs": [
    {
     "data": {
      "text/plain": [
       "[1, 'radio', ['scoops', 'spoon'], True]"
      ]
     },
     "execution_count": 25,
     "metadata": {},
     "output_type": "execute_result"
    }
   ],
   "source": [
    "[1,'radio',['scoops','spoon'],True]"
   ]
  },
  {
   "cell_type": "code",
   "execution_count": 26,
   "id": "533a9447-7cdc-4a5f-826e-d14d490d4826",
   "metadata": {},
   "outputs": [
    {
     "data": {
      "text/plain": [
       "[1, 'radio', ['scoops', 'spoon'], True, 'Target acheived']"
      ]
     },
     "execution_count": 26,
     "metadata": {},
     "output_type": "execute_result"
    }
   ],
   "source": [
    "icre=[1,'radio',['scoops','spoon'],True]\n",
    "icre.append('Target acheived')\n",
    "icre"
   ]
  },
  {
   "cell_type": "code",
   "execution_count": 27,
   "id": "619de81c-87ea-485e-a288-c4257868ab9e",
   "metadata": {},
   "outputs": [
    {
     "data": {
      "text/plain": [
       "['Creamdough', 'radio', ['scoops', 'spoon'], True, 'Target acheived']"
      ]
     },
     "execution_count": 27,
     "metadata": {},
     "output_type": "execute_result"
    }
   ],
   "source": [
    "icre[0]='Creamdough'\n",
    "icre"
   ]
  },
  {
   "cell_type": "code",
   "execution_count": 28,
   "id": "5b6f09ed-4e21-4a01-9eee-0fd7d109764b",
   "metadata": {},
   "outputs": [
    {
     "data": {
      "text/plain": [
       "'vanilla'"
      ]
     },
     "execution_count": 28,
     "metadata": {},
     "output_type": "execute_result"
    }
   ],
   "source": [
    "nest_list=['vanilla',3,['Scoops','Spoon'],True]\n",
    "nest_list[0]\n"
   ]
  },
  {
   "cell_type": "code",
   "execution_count": 29,
   "id": "4d9c5409-bcd0-4bcd-b113-7274a01a9546",
   "metadata": {},
   "outputs": [
    {
     "data": {
      "text/plain": [
       "['Scoops', 'Spoon']"
      ]
     },
     "execution_count": 29,
     "metadata": {},
     "output_type": "execute_result"
    }
   ],
   "source": [
    "nest_list=['vanilla',3,['Scoops','Spoon'],True]\n",
    "nest_list[2]\n"
   ]
  },
  {
   "cell_type": "code",
   "execution_count": 30,
   "id": "3e5a744c-8d53-49cd-b491-e9570606a235",
   "metadata": {},
   "outputs": [
    {
     "data": {
      "text/plain": [
       "True"
      ]
     },
     "execution_count": 30,
     "metadata": {},
     "output_type": "execute_result"
    }
   ],
   "source": [
    "nest_list=['vanilla',3,['Scoops','Spoon'],True]\n",
    "nest_list[3]\n"
   ]
  },
  {
   "cell_type": "code",
   "execution_count": 31,
   "id": "e1175a73-d510-4337-b4b2-43a09a37047f",
   "metadata": {},
   "outputs": [
    {
     "data": {
      "text/plain": [
       "'spoon'"
      ]
     },
     "execution_count": 31,
     "metadata": {},
     "output_type": "execute_result"
    }
   ],
   "source": [
    "nest_list=['Creamdough', 'radio', ['scoops', 'spoon'], True, 'Target acheived']\n",
    "nest_list[2][1]"
   ]
  },
  {
   "cell_type": "markdown",
   "id": "7bc88bdc-9939-4247-b7a6-19a7c02e3d3d",
   "metadata": {},
   "source": [
    "#TUPLE -cannot be modified later-sequence type\n",
    "##tuple will be used when data cannot be changed where i cannot append or update the data.\n",
    "tuple: Tuple, an ordered collection of items enclosed in parentheses ((...)) (e.g., (1, 2, 3), ('x', 'y', 'z'))"
   ]
  },
  {
   "cell_type": "code",
   "execution_count": 32,
   "id": "b3c09488-eec1-4f02-9ea9-4536584f9d53",
   "metadata": {},
   "outputs": [],
   "source": [
    "#tuple\n",
    "tuple_scoops = (1,2,3,2,1)"
   ]
  },
  {
   "cell_type": "code",
   "execution_count": 33,
   "id": "78521d61-b249-4182-8142-69a912d0ce98",
   "metadata": {},
   "outputs": [
    {
     "data": {
      "text/plain": [
       "tuple"
      ]
     },
     "execution_count": 33,
     "metadata": {},
     "output_type": "execute_result"
    }
   ],
   "source": [
    "type(tuple_scoops)"
   ]
  },
  {
   "cell_type": "code",
   "execution_count": 35,
   "id": "296ba96a-92f2-416e-99b5-0f509f0b30fb",
   "metadata": {},
   "outputs": [],
   "source": [
    "#sets\n",
    "\n",
    "\n",
    "#sets cannot be duplicated. values cannot be indexed.\n",
    "\n",
    "daily_pints = {1,2,3}"
   ]
  },
  {
   "cell_type": "code",
   "execution_count": 36,
   "id": "565a029e-9c5f-44cf-bebf-13e6f2701343",
   "metadata": {},
   "outputs": [
    {
     "data": {
      "text/plain": [
       "set"
      ]
     },
     "execution_count": 36,
     "metadata": {},
     "output_type": "execute_result"
    }
   ],
   "source": [
    "type(daily_pints)"
   ]
  },
  {
   "cell_type": "code",
   "execution_count": 37,
   "id": "1ccb23c5-838f-449a-b7aa-24c634a55f79",
   "metadata": {},
   "outputs": [
    {
     "name": "stdout",
     "output_type": "stream",
     "text": [
      "{1, 2, 3}\n"
     ]
    }
   ],
   "source": [
    "print(daily_pints)"
   ]
  },
  {
   "cell_type": "code",
   "execution_count": 38,
   "id": "c16d19c2-c83d-4295-8d6a-2828192f3c7b",
   "metadata": {},
   "outputs": [
    {
     "name": "stdout",
     "output_type": "stream",
     "text": [
      "{1, 2, 3, 4, 5, 6, 31}\n"
     ]
    }
   ],
   "source": [
    "daily_pint_logs={1,2,31,2,3,4,1,2,5,6,3,2}\n",
    "print(daily_pint_logs)\n",
    "#output- prints only unique values and deletes duplicates by command."
   ]
  },
  {
   "cell_type": "code",
   "execution_count": 46,
   "id": "d240ef92-4617-4ac4-9277-5673bb6fe5a4",
   "metadata": {},
   "outputs": [
    {
     "name": "stdout",
     "output_type": "stream",
     "text": [
      "{1, 2, 3, 4, 5, 6, 8, 11, 17, 31, 32, 43, 54}\n"
     ]
    }
   ],
   "source": [
    "daily_pint_logs={1,2,31,2,3,4,1,2,5,6,3,2}\n",
    "daily_pints_logs_two={1,2,32,43,54,11,17,8,5,6,2,3}\n",
    "print(daily_pint_logs | daily_pints_logs_two)"
   ]
  },
  {
   "cell_type": "code",
   "execution_count": 47,
   "id": "e7039d46-ebfa-4715-be11-0fea058737a1",
   "metadata": {},
   "outputs": [
    {
     "name": "stdout",
     "output_type": "stream",
     "text": [
      "{1, 2, 3, 5, 6}\n"
     ]
    }
   ],
   "source": [
    "print(daily_pint_logs & daily_pints_logs_two)\n",
    "#only shows which matches in both sets"
   ]
  },
  {
   "cell_type": "code",
   "execution_count": 48,
   "id": "61b60aa9-af4f-4b3d-aa1c-e2a2bf38a75b",
   "metadata": {},
   "outputs": [
    {
     "name": "stdout",
     "output_type": "stream",
     "text": [
      "{4, 31}\n"
     ]
    }
   ],
   "source": [
    "print(daily_pint_logs - daily_pints_logs_two)\n",
    "#shows which doesnt match"
   ]
  },
  {
   "cell_type": "code",
   "execution_count": 49,
   "id": "dcce0e50-6b26-467a-b496-4c590284b918",
   "metadata": {},
   "outputs": [
    {
     "name": "stdout",
     "output_type": "stream",
     "text": [
      "{32, 4, 8, 43, 11, 17, 54, 31}\n"
     ]
    }
   ],
   "source": [
    "print(daily_pint_logs ^ daily_pints_logs_two)\n",
    "#unique to  each other sides"
   ]
  },
  {
   "cell_type": "code",
   "execution_count": 50,
   "id": "04529eba-9dd2-4fe2-837c-a6f905609c95",
   "metadata": {},
   "outputs": [],
   "source": [
    "#Dictionary- #key value pair\n",
    "#we willhave a key towhich that value is attributed to\n",
    "\n",
    "\n",
    "dict_cream={'name':'Alex','weeklyintake':4,'fav sports':'Volley_ball','book':['rose','target']}\n"
   ]
  },
  {
   "cell_type": "code",
   "execution_count": 51,
   "id": "2c281848-db54-4992-8a12-f8c68820c415",
   "metadata": {},
   "outputs": [
    {
     "name": "stdout",
     "output_type": "stream",
     "text": [
      "{'name': 'Alex', 'weeklyintake': 4, 'fav sports': 'Volley_ball', 'book': ['rose', 'target']}\n"
     ]
    }
   ],
   "source": [
    "print(dict_cream)"
   ]
  },
  {
   "cell_type": "code",
   "execution_count": 52,
   "id": "430b2a39-5e29-477b-8f69-181f54c23f4f",
   "metadata": {},
   "outputs": [
    {
     "data": {
      "text/plain": [
       "dict_values(['Alex', 4, 'Volley_ball', ['rose', 'target']])"
      ]
     },
     "execution_count": 52,
     "metadata": {},
     "output_type": "execute_result"
    }
   ],
   "source": [
    "dict_cream.values()"
   ]
  },
  {
   "cell_type": "code",
   "execution_count": 54,
   "id": "2d2bc761-baad-46b6-ad09-5cd12a93d47a",
   "metadata": {},
   "outputs": [
    {
     "data": {
      "text/plain": [
       "dict_keys(['name', 'weeklyintake', 'fav sports', 'book'])"
      ]
     },
     "execution_count": 54,
     "metadata": {},
     "output_type": "execute_result"
    }
   ],
   "source": [
    "dict_cream.keys()"
   ]
  },
  {
   "cell_type": "code",
   "execution_count": 55,
   "id": "4dea812c-d471-4bda-9690-bda5092fef4a",
   "metadata": {},
   "outputs": [
    {
     "data": {
      "text/plain": [
       "dict_items([('name', 'Alex'), ('weeklyintake', 4), ('fav sports', 'Volley_ball'), ('book', ['rose', 'target'])])"
      ]
     },
     "execution_count": 55,
     "metadata": {},
     "output_type": "execute_result"
    }
   ],
   "source": [
    "dict_cream.items()"
   ]
  },
  {
   "cell_type": "code",
   "execution_count": 58,
   "id": "892bfb63-314b-4a9d-bf81-f0ebd1fd9930",
   "metadata": {},
   "outputs": [
    {
     "data": {
      "text/plain": [
       "'Alex'"
      ]
     },
     "execution_count": 58,
     "metadata": {},
     "output_type": "execute_result"
    }
   ],
   "source": [
    "dict_cream['name']"
   ]
  },
  {
   "cell_type": "code",
   "execution_count": 59,
   "id": "0da198a8-b0ee-42b8-af03-4cade6361f46",
   "metadata": {},
   "outputs": [],
   "source": [
    "dict_cream['name']=['rachael'] #name can be changed"
   ]
  },
  {
   "cell_type": "code",
   "execution_count": 61,
   "id": "8d09b829-b916-41f3-9371-d02f218b9829",
   "metadata": {},
   "outputs": [
    {
     "name": "stdout",
     "output_type": "stream",
     "text": [
      "{'name': ['rachael'], 'weeklyintake': 4, 'fav sports': 'Volley_ball', 'book': ['rose', 'target']}\n"
     ]
    }
   ],
   "source": [
    "print (dict_cream)"
   ]
  },
  {
   "cell_type": "code",
   "execution_count": null,
   "id": "efbc448f-a2cb-4cda-b28c-bde3bad27bf6",
   "metadata": {},
   "outputs": [],
   "source": []
  }
 ],
 "metadata": {
  "kernelspec": {
   "display_name": "Python 3 (ipykernel)",
   "language": "python",
   "name": "python3"
  },
  "language_info": {
   "codemirror_mode": {
    "name": "ipython",
    "version": 3
   },
   "file_extension": ".py",
   "mimetype": "text/x-python",
   "name": "python",
   "nbconvert_exporter": "python",
   "pygments_lexer": "ipython3",
   "version": "3.12.4"
  }
 },
 "nbformat": 4,
 "nbformat_minor": 5
}
